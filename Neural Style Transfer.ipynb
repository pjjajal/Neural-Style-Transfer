{
 "metadata": {
  "language_info": {
   "codemirror_mode": {
    "name": "ipython",
    "version": 3
   },
   "file_extension": ".py",
   "mimetype": "text/x-python",
   "name": "python",
   "nbconvert_exporter": "python",
   "pygments_lexer": "ipython3",
   "version": "3.8.3-final"
  },
  "orig_nbformat": 2,
  "kernelspec": {
   "name": "python_defaultSpec_1599881455022",
   "display_name": "Python 3.8.3 64-bit ('CoreEnv': conda)"
  }
 },
 "nbformat": 4,
 "nbformat_minor": 2,
 "cells": [
  {
   "cell_type": "code",
   "execution_count": null,
   "metadata": {},
   "outputs": [],
   "source": [
    "import tensorflow as tf \n",
    "from tensorflow import keras\n",
    "from tensorflow.keras import layers\n",
    "import matplotlib.pyplot as plt\n",
    "import numpy as np\n",
    "import IPython.display as display\n",
    "import PIL.Image"
   ]
  },
  {
   "cell_type": "code",
   "execution_count": null,
   "metadata": {},
   "outputs": [],
   "source": [
    "tf.random.set_seed(42)"
   ]
  },
  {
   "source": [],
   "cell_type": "markdown",
   "metadata": {}
  },
  {
   "cell_type": "code",
   "execution_count": null,
   "metadata": {},
   "outputs": [],
   "source": [
    "def load_image(image_path):\n",
    "    image = tf.io.read_file(image_path)\n",
    "    image = tf.io.decode_image(image,3)\n",
    "    image = tf.image.convert_image_dtype(image,tf.float32)\n",
    "    return image"
   ]
  },
  {
   "cell_type": "code",
   "execution_count": null,
   "metadata": {},
   "outputs": [],
   "source": [
    "def process_image(image,input_shape):\n",
    "    processed_image = tf.keras.applications.vgg19.preprocess_input(image*255)\n",
    "    processed_image = tf.image.resize(processed_image, size = input_shape)\n",
    "    # processed_image = tf.image.resize(processed_image, size = (224,224))\n",
    "    processed_image = tf.expand_dims(processed_image,0)\n",
    "    return processed_image"
   ]
  },
  {
   "source": [],
   "cell_type": "markdown",
   "metadata": {}
  },
  {
   "cell_type": "code",
   "execution_count": null,
   "metadata": {},
   "outputs": [],
   "source": [
    "def content_loss(generated_output, content_outputs):\n",
    "    loss = 0.5*tf.reduce_sum(tf.square(tf.subtract(content_outputs,generated_output)))\n",
    "    return loss"
   ]
  },
  {
   "cell_type": "code",
   "execution_count": null,
   "metadata": {},
   "outputs": [],
   "source": [
    "def gram_matrix(input):\n",
    "    output = tf.reshape(input,(-1,input.shape[-1]))\n",
    "    output = tf.matmul(output,output,transpose_a=True)\n",
    "    # Alternate implementation\n",
    "    # output = tf.einsum('bijc,bijd->bcd',input,input)\n",
    "    return output"
   ]
  },
  {
   "cell_type": "code",
   "execution_count": null,
   "metadata": {},
   "outputs": [],
   "source": [
    "def style_loss(generated_outputs,style_outputs,weights):\n",
    "    for generated_output,style_output,weight in zip(generated_outputs,style_outputs,weights):\n",
    "        nh,nw,nc = generated_output.shape[1:]\n",
    "        gram_generated_im = gram_matrix(generated_output)\n",
    "        # gram_style_image = gram_matrix(style_output)\n",
    "        loss = weight*(1/(4*(nh*nw*nc)))*tf.reduce_sum(tf.square(tf.subtract(gram_generated_im,style_output)))\n",
    "        # loss += weight*tf.reduce_sum(tf.square(tf.subtract(gram_style_image,gram_generated_im)))\n",
    "        # print('Style Loss: {}'.format(loss))\n",
    "    return loss"
   ]
  },
  {
   "cell_type": "code",
   "execution_count": null,
   "metadata": {},
   "outputs": [],
   "source": [
    "def total_loss(content_loss, style_loss, alpha, beta):\n",
    "    total = tf.add(tf.multiply(alpha,content_loss), tf.multiply(beta,style_loss))\n",
    "    return total"
   ]
  },
  {
   "source": [],
   "cell_type": "markdown",
   "metadata": {}
  },
  {
   "cell_type": "code",
   "execution_count": 82,
   "metadata": {},
   "outputs": [],
   "source": [
    "def calculate_gradients(model,gen_image,style_outputs,content_outputs,weights,alpha,beta):\n",
    "    with tf.GradientTape() as tape:\n",
    "        output_gen = model(tf.keras.applications.vgg19.preprocess_input(gen_image*255))\n",
    "        # loss = 0.5*tf.reduce_sum(tf.square(tf.subtract(output_content,output_gen)))\n",
    "        cont_loss = content_loss(output_gen[-1],content_outputs)\n",
    "        sty_loss = style_loss(output_gen[:-1],style_outputs,weights)\n",
    "        loss_total = total_loss(cont_loss,sty_loss,alpha,beta)\n",
    "    # print(loss_total)\n",
    "    return tape.gradient(loss_total,X)"
   ]
  },
  {
   "cell_type": "code",
   "execution_count": null,
   "metadata": {},
   "outputs": [],
   "source": [
    "class StyleTransferModel(tf.keras.Model):\n",
    "    def __init__(self,content_path,style_path,input_shape,style_layers,content_layers):\n",
    "        super(StyleTransferModel, self).__init__()\n",
    "        self.model_input_shape = input_shape\n",
    "        self.content_image = load_image(content_path)\n",
    "        self.style_image = load_image(style_path)\n",
    "        self.resized_content_image = process_image(self.content_image, self.model_input_shape[:-1])\n",
    "        self.resized_style_image = process_image(self.style_image,self.model_input_shape[:-1])\n",
    "        vgg = tf.keras.applications.VGG19(include_top=False,pooling='avg', input_shape=input_shape,weights='imagenet')\n",
    "        vgg.trainable = False\n",
    "        self.model = keras.Model([vgg.input],[vgg.get_layer(layer).output for layer in (style_layers + content_layers)])\n",
    "    \n",
    "    def style_outputs(self):\n",
    "        output = self.call(self.resized_style_image)[:-1]\n",
    "        return output\n",
    "\n",
    "    def content_outputs(self):\n",
    "        output = self.call(self.resized_content_image)[-1]\n",
    "        return output\n",
    "\n",
    "    def generate_image(self):\n",
    "        generated_image = tf.image.resize(self.content_image, size = self.model_input_shape[:-1])\n",
    "        generated_image = tf.expand_dims(generated_image,0)\n",
    "        return generated_image\n",
    "\n",
    "    def call(self, inputs):\n",
    "        outputs = self.model(inputs)\n",
    "        return outputs\n"
   ]
  },
  {
   "cell_type": "code",
   "execution_count": null,
   "metadata": {
    "tags": []
   },
   "outputs": [],
   "source": [
    "content_path = tf.keras.utils.get_file('woodstock.jpg','https://hips.hearstapps.com/hmg-prod.s3.amazonaws.com/images/gettyimages-96264452-1513966019.jpg?crop=1xw:1xh;center,top&resize=980:*')"
   ]
  },
  {
   "cell_type": "code",
   "execution_count": null,
   "metadata": {
    "tags": []
   },
   "outputs": [],
   "source": [
    "style_path = tf.keras.utils.get_file('starry night.jpg','https://www.vangoghgallery.com/img/starry_night_full.jpg')"
   ]
  },
  {
   "cell_type": "code",
   "execution_count": null,
   "metadata": {
    "tags": []
   },
   "outputs": [],
   "source": [
    "content_layers = ['block4_conv2']\n",
    "style_layers =['block1_conv1','block2_conv1','block3_conv1','block4_conv1','block5_conv1']\n",
    "weights = [0.2,0.2,0.2,0.2,0.2]"
   ]
  },
  {
   "cell_type": "code",
   "execution_count": null,
   "metadata": {},
   "outputs": [],
   "source": [
    "model2 = StyleTransferModel(content_path,style_path,(512,512,3),style_layers,content_layers)"
   ]
  },
  {
   "cell_type": "code",
   "execution_count": null,
   "metadata": {},
   "outputs": [],
   "source": [
    "content_outputs = model.content_outputs()\n",
    "style_outputs = model.style_outputs()\n",
    "style_gram = [gram_matrix(output) for output in style_outputs]\n",
    "generated_image = model.generate_image()"
   ]
  },
  {
   "cell_type": "code",
   "execution_count": null,
   "metadata": {},
   "outputs": [],
   "source": [
    "optimizer = tf.optimizers.Adam(learning_rate=0.02, beta_1=0.99, epsilon=1e-1)"
   ]
  },
  {
   "cell_type": "code",
   "execution_count": null,
   "metadata": {},
   "outputs": [],
   "source": [
    "X = tf.Variable(generated_image)"
   ]
  },
  {
   "cell_type": "code",
   "execution_count": null,
   "metadata": {
    "tags": []
   },
   "outputs": [],
   "source": [
    "epoch = 10\n",
    "steps = 100\n",
    "\n",
    "for n in range(epoch):\n",
    "    print('Epoch:{}/10\\n'.format(n))\n",
    "    display.display(PIL.Image.fromarray(np.array(X[0]*255, dtype = np.uint8)))\n",
    "    for m in range(steps):\n",
    "        # print('Step:{}/100'.format(m))\n",
    "        grad = calculate_gradients(model2,X,style_outputs=style_gram,content_outputs=content_outputs,weights=weights, alpha= 1e-1, beta = 1)\n",
    "        optimizer.apply_gradients(grads_and_vars=[(grad,X)])\n",
    "        X.assign(tf.clip_by_value(X, clip_value_min=0.0, clip_value_max=1.0),read_value=False)"
   ]
  },
  {
   "cell_type": "code",
   "execution_count": null,
   "metadata": {},
   "outputs": [],
   "source": []
  }
 ]
}